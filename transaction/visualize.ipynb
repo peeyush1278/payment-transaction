{
 "cells": [
  {
   "cell_type": "code",
   "execution_count": 1,
   "id": "cd9627f6",
   "metadata": {},
   "outputs": [],
   "source": [
    "import pandas as pd \n",
    "import matplotlib.pyplot as plt\n",
    "import seaborn as sns\n",
    "import numpy as np"
   ]
  },
  {
   "cell_type": "code",
   "execution_count": 2,
   "id": "e4181e12",
   "metadata": {},
   "outputs": [],
   "source": [
    "df=pd.read_excel('transactions.xlsx')"
   ]
  },
  {
   "cell_type": "code",
   "execution_count": 3,
   "id": "48b55a1d",
   "metadata": {},
   "outputs": [
    {
     "data": {
      "application/vnd.microsoft.datawrangler.viewer.v0+json": {
       "columns": [
        {
         "name": "index",
         "rawType": "int64",
         "type": "integer"
        },
        {
         "name": "SL no.",
         "rawType": "float64",
         "type": "float"
        },
        {
         "name": "name of platform",
         "rawType": "object",
         "type": "string"
        },
        {
         "name": "how much paid",
         "rawType": "float64",
         "type": "float"
        },
        {
         "name": "whom to paid",
         "rawType": "object",
         "type": "string"
        },
        {
         "name": "description",
         "rawType": "object",
         "type": "string"
        },
        {
         "name": "time",
         "rawType": "object",
         "type": "string"
        }
       ],
       "ref": "e00a6789-eb57-47c8-b0d3-78e1ae2691f0",
       "rows": [
        [
         "0",
         "1.0",
         "FamPay",
         "20.0",
         "K H KRISHNAMURTHY",
         "FamPay Payment",
         "2025-09-17 12:26"
        ],
        [
         "1",
         "2.0",
         "FamPay",
         "10.0",
         "BANGALORE METRO",
         "FamPay Payment",
         "2025-09-17 12:09"
        ],
        [
         "2",
         "3.0",
         "FamPay",
         "10.0",
         "BANGALORE METRO",
         "FamPay Payment",
         "2025-09-17 11:13"
        ],
        [
         "3",
         "4.0",
         "FamPay",
         "45.0",
         "MANJUNATH  B",
         "FamPay Payment",
         "2025-09-17 08:08"
        ],
        [
         "4",
         "5.0",
         "FamPay",
         "10.0",
         "PRAKASH",
         "FamPay Payment",
         "2025-09-16 20:31"
        ]
       ],
       "shape": {
        "columns": 6,
        "rows": 5
       }
      },
      "text/html": [
       "<div>\n",
       "<style scoped>\n",
       "    .dataframe tbody tr th:only-of-type {\n",
       "        vertical-align: middle;\n",
       "    }\n",
       "\n",
       "    .dataframe tbody tr th {\n",
       "        vertical-align: top;\n",
       "    }\n",
       "\n",
       "    .dataframe thead th {\n",
       "        text-align: right;\n",
       "    }\n",
       "</style>\n",
       "<table border=\"1\" class=\"dataframe\">\n",
       "  <thead>\n",
       "    <tr style=\"text-align: right;\">\n",
       "      <th></th>\n",
       "      <th>SL no.</th>\n",
       "      <th>name of platform</th>\n",
       "      <th>how much paid</th>\n",
       "      <th>whom to paid</th>\n",
       "      <th>description</th>\n",
       "      <th>time</th>\n",
       "    </tr>\n",
       "  </thead>\n",
       "  <tbody>\n",
       "    <tr>\n",
       "      <th>0</th>\n",
       "      <td>1.0</td>\n",
       "      <td>FamPay</td>\n",
       "      <td>20.0</td>\n",
       "      <td>K H KRISHNAMURTHY</td>\n",
       "      <td>FamPay Payment</td>\n",
       "      <td>2025-09-17 12:26</td>\n",
       "    </tr>\n",
       "    <tr>\n",
       "      <th>1</th>\n",
       "      <td>2.0</td>\n",
       "      <td>FamPay</td>\n",
       "      <td>10.0</td>\n",
       "      <td>BANGALORE METRO</td>\n",
       "      <td>FamPay Payment</td>\n",
       "      <td>2025-09-17 12:09</td>\n",
       "    </tr>\n",
       "    <tr>\n",
       "      <th>2</th>\n",
       "      <td>3.0</td>\n",
       "      <td>FamPay</td>\n",
       "      <td>10.0</td>\n",
       "      <td>BANGALORE METRO</td>\n",
       "      <td>FamPay Payment</td>\n",
       "      <td>2025-09-17 11:13</td>\n",
       "    </tr>\n",
       "    <tr>\n",
       "      <th>3</th>\n",
       "      <td>4.0</td>\n",
       "      <td>FamPay</td>\n",
       "      <td>45.0</td>\n",
       "      <td>MANJUNATH  B</td>\n",
       "      <td>FamPay Payment</td>\n",
       "      <td>2025-09-17 08:08</td>\n",
       "    </tr>\n",
       "    <tr>\n",
       "      <th>4</th>\n",
       "      <td>5.0</td>\n",
       "      <td>FamPay</td>\n",
       "      <td>10.0</td>\n",
       "      <td>PRAKASH</td>\n",
       "      <td>FamPay Payment</td>\n",
       "      <td>2025-09-16 20:31</td>\n",
       "    </tr>\n",
       "  </tbody>\n",
       "</table>\n",
       "</div>"
      ],
      "text/plain": [
       "   SL no. name of platform  how much paid       whom to paid     description  \\\n",
       "0     1.0           FamPay           20.0  K H KRISHNAMURTHY  FamPay Payment   \n",
       "1     2.0           FamPay           10.0    BANGALORE METRO  FamPay Payment   \n",
       "2     3.0           FamPay           10.0    BANGALORE METRO  FamPay Payment   \n",
       "3     4.0           FamPay           45.0       MANJUNATH  B  FamPay Payment   \n",
       "4     5.0           FamPay           10.0            PRAKASH  FamPay Payment   \n",
       "\n",
       "               time  \n",
       "0  2025-09-17 12:26  \n",
       "1  2025-09-17 12:09  \n",
       "2  2025-09-17 11:13  \n",
       "3  2025-09-17 08:08  \n",
       "4  2025-09-16 20:31  "
      ]
     },
     "execution_count": 3,
     "metadata": {},
     "output_type": "execute_result"
    }
   ],
   "source": [
    "df.head()"
   ]
  },
  {
   "cell_type": "code",
   "execution_count": 4,
   "id": "a8d0ce02",
   "metadata": {},
   "outputs": [],
   "source": [
    "df_needed=df.drop(columns=['SL no.','name of platform','description','time'])"
   ]
  },
  {
   "cell_type": "code",
   "execution_count": 5,
   "id": "277e97cf",
   "metadata": {},
   "outputs": [
    {
     "name": "stdout",
     "output_type": "stream",
     "text": [
      "<class 'pandas.core.frame.DataFrame'>\n",
      "RangeIndex: 101 entries, 0 to 100\n",
      "Data columns (total 2 columns):\n",
      " #   Column         Non-Null Count  Dtype  \n",
      "---  ------         --------------  -----  \n",
      " 0   how much paid  101 non-null    float64\n",
      " 1   whom to paid   100 non-null    object \n",
      "dtypes: float64(1), object(1)\n",
      "memory usage: 1.7+ KB\n"
     ]
    }
   ],
   "source": [
    "df_needed.info()"
   ]
  },
  {
   "cell_type": "code",
   "execution_count": 6,
   "id": "6e0f6f78",
   "metadata": {},
   "outputs": [
    {
     "data": {
      "text/plain": [
       "array(['K H KRISHNAMURTHY', 'BANGALORE METRO', 'MANJUNATH  B', 'PRAKASH',\n",
       "       'ARYAN PRAKASHCHANDRA CHOUDHARY', 'Zepto Marketplace',\n",
       "       'AISHWARYA DEPARTMENTAL STORE', 'BMTC BUS KA51AH3264', 'HARISH K',\n",
       "       'ANUSHA V', 'Bangalore Metro Rail Corporation Ltd',\n",
       "       'Valorant Points', 'VISHAL L GAONKAR', 'BMTC BUS KA57F6014',\n",
       "       'Anand S B', 'BMTC BUS KA51AH2743', 'SUNIL KUMAR C S', 'Zepto',\n",
       "       'Janak  Pant', 'ZEPTO MARKETPLACE PRIVATE LIMITED',\n",
       "       'GIRISH BABU L', 'AKASH RANGAREJ', 'BMTC BUS KA57F4800',\n",
       "       'YASHWNTHA T P', 'BMTC BUS KA57F4608', 'BMTC BUS KA57F4341',\n",
       "       'ZEPTO', 'ZEPTONOW', 'Airtel Prepaid', 'M DARSHAN',\n",
       "       'IIT GUWAHATI GATE', 'BMTC BUS KA57F5111', 'Gowrav K M',\n",
       "       'BMTC BUS KA57F5965', 'BMTC BUS KA57F4677', nan], dtype=object)"
      ]
     },
     "execution_count": 6,
     "metadata": {},
     "output_type": "execute_result"
    }
   ],
   "source": [
    "df_needed['whom to paid'].unique()"
   ]
  },
  {
   "cell_type": "code",
   "execution_count": 25,
   "id": "06b2b8a2",
   "metadata": {},
   "outputs": [],
   "source": [
    "df_needed.dropna(inplace=True)"
   ]
  },
  {
   "cell_type": "code",
   "execution_count": 26,
   "id": "5cc64944",
   "metadata": {},
   "outputs": [],
   "source": [
    "people=df_needed['whom to paid'].value_counts().to_dict()"
   ]
  },
  {
   "cell_type": "code",
   "execution_count": 27,
   "id": "c3c61f63",
   "metadata": {},
   "outputs": [],
   "source": [
    "people=pd.DataFrame(people.items(),columns=['Name','No. of transactions'])"
   ]
  },
  {
   "cell_type": "code",
   "execution_count": 28,
   "id": "da047983",
   "metadata": {},
   "outputs": [
    {
     "data": {
      "application/vnd.microsoft.datawrangler.viewer.v0+json": {
       "columns": [
        {
         "name": "index",
         "rawType": "int64",
         "type": "integer"
        },
        {
         "name": "Name",
         "rawType": "object",
         "type": "string"
        },
        {
         "name": "No. of transactions",
         "rawType": "int64",
         "type": "integer"
        }
       ],
       "ref": "dd5e96de-9b70-47ff-870a-086e3500df78",
       "rows": [
        [
         "0",
         "Zepto Marketplace",
         "11"
        ],
        [
         "1",
         "Bangalore Metro Rail Corporation Ltd",
         "9"
        ],
        [
         "2",
         "MANJUNATH  B",
         "7"
        ],
        [
         "3",
         "BANGALORE METRO",
         "6"
        ],
        [
         "4",
         "SUNIL KUMAR C S",
         "5"
        ]
       ],
       "shape": {
        "columns": 2,
        "rows": 5
       }
      },
      "text/html": [
       "<div>\n",
       "<style scoped>\n",
       "    .dataframe tbody tr th:only-of-type {\n",
       "        vertical-align: middle;\n",
       "    }\n",
       "\n",
       "    .dataframe tbody tr th {\n",
       "        vertical-align: top;\n",
       "    }\n",
       "\n",
       "    .dataframe thead th {\n",
       "        text-align: right;\n",
       "    }\n",
       "</style>\n",
       "<table border=\"1\" class=\"dataframe\">\n",
       "  <thead>\n",
       "    <tr style=\"text-align: right;\">\n",
       "      <th></th>\n",
       "      <th>Name</th>\n",
       "      <th>No. of transactions</th>\n",
       "    </tr>\n",
       "  </thead>\n",
       "  <tbody>\n",
       "    <tr>\n",
       "      <th>0</th>\n",
       "      <td>Zepto Marketplace</td>\n",
       "      <td>11</td>\n",
       "    </tr>\n",
       "    <tr>\n",
       "      <th>1</th>\n",
       "      <td>Bangalore Metro Rail Corporation Ltd</td>\n",
       "      <td>9</td>\n",
       "    </tr>\n",
       "    <tr>\n",
       "      <th>2</th>\n",
       "      <td>MANJUNATH  B</td>\n",
       "      <td>7</td>\n",
       "    </tr>\n",
       "    <tr>\n",
       "      <th>3</th>\n",
       "      <td>BANGALORE METRO</td>\n",
       "      <td>6</td>\n",
       "    </tr>\n",
       "    <tr>\n",
       "      <th>4</th>\n",
       "      <td>SUNIL KUMAR C S</td>\n",
       "      <td>5</td>\n",
       "    </tr>\n",
       "  </tbody>\n",
       "</table>\n",
       "</div>"
      ],
      "text/plain": [
       "                                   Name  No. of transactions\n",
       "0                     Zepto Marketplace                   11\n",
       "1  Bangalore Metro Rail Corporation Ltd                    9\n",
       "2                          MANJUNATH  B                    7\n",
       "3                       BANGALORE METRO                    6\n",
       "4                       SUNIL KUMAR C S                    5"
      ]
     },
     "execution_count": 28,
     "metadata": {},
     "output_type": "execute_result"
    }
   ],
   "source": [
    "people.head()"
   ]
  },
  {
   "cell_type": "code",
   "execution_count": 29,
   "id": "fa406167",
   "metadata": {},
   "outputs": [
    {
     "data": {
      "text/plain": [
       "35"
      ]
     },
     "execution_count": 29,
     "metadata": {},
     "output_type": "execute_result"
    }
   ],
   "source": [
    "people.shape[0]"
   ]
  },
  {
   "cell_type": "code",
   "execution_count": 30,
   "id": "30c12a5c",
   "metadata": {},
   "outputs": [],
   "source": [
    "no_of_transaction=df_needed.shape[0]"
   ]
  },
  {
   "cell_type": "code",
   "execution_count": 32,
   "id": "345f5ed9",
   "metadata": {},
   "outputs": [
    {
     "name": "stdout",
     "output_type": "stream",
     "text": [
      "{'K H KRISHNAMURTHY': 80.0, 'BANGALORE METRO': 90.0, 'MANJUNATH  B': 312.0, 'PRAKASH': 20.0, 'ARYAN PRAKASHCHANDRA CHOUDHARY': 1503.0, 'Zepto Marketplace': 1610.8000000000002, 'AISHWARYA DEPARTMENTAL STORE': 178.0, 'BMTC BUS KA51AH3264': 48.0, 'HARISH K': 180.0, 'ANUSHA V': 80.0, 'Bangalore Metro Rail Corporation Ltd': 300.0, 'Valorant Points': 9240.0, 'VISHAL L GAONKAR': 4208.0, 'BMTC BUS KA57F6014': 60.0, 'Anand S B': 38.0, 'BMTC BUS KA51AH2743': 24.0, 'SUNIL KUMAR C S': 277.0, 'Zepto': 188.39, 'Janak  Pant': 285.0, 'ZEPTO MARKETPLACE PRIVATE LIMITED': 425.15999999999997, 'GIRISH BABU L': 1700.0, 'AKASH RANGAREJ': 2990.0, 'BMTC BUS KA57F4800': 48.0, 'YASHWNTHA T P': 40.0, 'BMTC BUS KA57F4608': 30.0, 'BMTC BUS KA57F4341': 24.0, 'ZEPTO': 349.54, 'ZEPTONOW': 277.32, 'Airtel Prepaid': 22.99, 'M DARSHAN': 3500.0, 'IIT GUWAHATI GATE': 2000.0, 'BMTC BUS KA57F5111': 23.0, 'Gowrav K M': 20.0, 'BMTC BUS KA57F5965': 24.0, 'BMTC BUS KA57F4677': 18.0}\n"
     ]
    }
   ],
   "source": [
    "how_much_paid_to_single_person={}\n",
    "for i in df_needed['whom to paid'].unique():\n",
    "    sum=0\n",
    "    for j in range(1,no_of_transaction):\n",
    "        if df_needed['whom to paid'][j]==i:\n",
    "            sum+=df_needed['how much paid'][j]\n",
    "    how_much_paid_to_single_person[i]=sum\n",
    "print(how_much_paid_to_single_person)"
   ]
  },
  {
   "cell_type": "code",
   "execution_count": null,
   "id": "6b5fc007",
   "metadata": {},
   "outputs": [],
   "source": [
    "total_per_person=pd.DataFrame(how_much_paid_to_single_person.items(),columns=['Name','No. of transactions'])"
   ]
  },
  {
   "cell_type": "code",
   "execution_count": 41,
   "id": "8997e1e7",
   "metadata": {},
   "outputs": [
    {
     "data": {
      "application/vnd.microsoft.datawrangler.viewer.v0+json": {
       "columns": [
        {
         "name": "index",
         "rawType": "int64",
         "type": "integer"
        },
        {
         "name": "Name",
         "rawType": "object",
         "type": "string"
        },
        {
         "name": "No. of transactions",
         "rawType": "float64",
         "type": "float"
        }
       ],
       "ref": "6095403e-6a93-4528-91f2-63b135a6e0b5",
       "rows": [],
       "shape": {
        "columns": 2,
        "rows": 0
       }
      },
      "text/html": [
       "<div>\n",
       "<style scoped>\n",
       "    .dataframe tbody tr th:only-of-type {\n",
       "        vertical-align: middle;\n",
       "    }\n",
       "\n",
       "    .dataframe tbody tr th {\n",
       "        vertical-align: top;\n",
       "    }\n",
       "\n",
       "    .dataframe thead th {\n",
       "        text-align: right;\n",
       "    }\n",
       "</style>\n",
       "<table border=\"1\" class=\"dataframe\">\n",
       "  <thead>\n",
       "    <tr style=\"text-align: right;\">\n",
       "      <th></th>\n",
       "      <th>Name</th>\n",
       "      <th>No. of transactions</th>\n",
       "    </tr>\n",
       "  </thead>\n",
       "  <tbody>\n",
       "  </tbody>\n",
       "</table>\n",
       "</div>"
      ],
      "text/plain": [
       "Empty DataFrame\n",
       "Columns: [Name, No. of transactions]\n",
       "Index: []"
      ]
     },
     "execution_count": 41,
     "metadata": {},
     "output_type": "execute_result"
    }
   ],
   "source": [
    "total_per_person.head(0)"
   ]
  },
  {
   "cell_type": "code",
   "execution_count": 44,
   "id": "4c36b27f",
   "metadata": {},
   "outputs": [
    {
     "data": {
      "text/plain": [
       "<Axes: xlabel='Name'>"
      ]
     },
     "execution_count": 44,
     "metadata": {},
     "output_type": "execute_result"
    },
    {
     "data": {
      "image/png": "[encoded data removed]",
      "text/plain": [
       "<Figure size 2000x1000 with 1 Axes>"
      ]
     },
     "metadata": {},
     "output_type": "display_data"
    }
   ],
   "source": [
    "total_per_person.plot(kind='bar',figsize=(20,10),x='Name',y='No. of transactions',color='orange')"
   ]
  },
  {
   "cell_type": "code",
   "execution_count": null,
   "id": "c2a04800",
   "metadata": {},
   "outputs": [],
   "source": []
  }
 ],
 "metadata": {
  "kernelspec": {
   "display_name": "Python 3",
   "language": "python",
   "name": "python3"
  },
  "language_info": {
   "codemirror_mode": {
    "name": "ipython",
    "version": 3
   },
   "file_extension": ".py",
   "mimetype": "text/x-python",
   "name": "python",
   "nbconvert_exporter": "python",
   "pygments_lexer": "ipython3",
   "version": "3.9.13"
  }
 },
 "nbformat": 4,
 "nbformat_minor": 5
}
